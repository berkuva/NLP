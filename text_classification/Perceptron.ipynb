{
 "cells": [
  {
   "cell_type": "code",
   "execution_count": 1,
   "metadata": {},
   "outputs": [],
   "source": [
    "import numpy as np\n",
    "import string\n",
    "\n",
    "import nltk\n",
    "print(\"PLEASE INSTALL all-corpora WHEN PROMPTED BY NLTK\")\n",
    "nltk.download()\n",
    "print(\"YOU CAN THEN COMMENT OUT THE ABOVE LINE\")\n",
    "from nltk.corpus import stopwords\n",
    "stop_words = stopwords.words(\"english\")\n"
   ]
  },
  {
   "cell_type": "markdown",
   "metadata": {},
   "source": [
    "## Preprocessing"
   ]
  },
  {
   "cell_type": "markdown",
   "metadata": {},
   "source": [
    "\n",
    "What I did to reduce the number of words:\n",
    "\n",
    "1. get rid of not alphanumeric letters from the text using Unix command\n",
    "#sed \"s/[^a-zA-Z]/ /g\" training_data.txt > new_training_data.txt\n",
    "2. Converted every word to lowercase.\n",
    "3. Excluded stop words.\n",
    "4. Removed words that appear fewer than 5 times. This allowed reducing the number of words from over 40000 to around 7500.\n",
    "\n"
   ]
  },
  {
   "cell_type": "code",
   "execution_count": 2,
   "metadata": {},
   "outputs": [
    {
     "name": "stdout",
     "output_type": "stream",
     "text": [
      "Number of unique words before stop words removed:  7658\n",
      "Number of unique words cleaned:  7570\n",
      "\n",
      "Building dictionaries... \n",
      "complete!\n",
      "\n"
     ]
    }
   ],
   "source": [
    "# Expand the stop word list to contain every single letters a, b ... z\n",
    "alphabets = list(string.ascii_lowercase)\n",
    "for al in alphabets:\n",
    "    if al not in stop_words:\n",
    "        stop_words.append(al)\n",
    "\n",
    "\n",
    "datafile = open(\"./src/data_files/new_training_data.txt\")\n",
    "datafile_lines = [line.rstrip('\\n') for line in datafile]\n",
    "\n",
    "\n",
    "# Produce a set of unique words.\n",
    "def get_unique_words(text=datafile_lines):\n",
    "\n",
    "    words_dict = {}\n",
    "    for sentence in datafile_lines:\n",
    "        for word in sentence.split(\" \"):\n",
    "            if word in words_dict:\n",
    "                words_dict[word.lower()] += 1\n",
    "            else:\n",
    "                words_dict[word.lower()] = 1\n",
    "\n",
    "    words_set = set()\n",
    "\n",
    "    for w, count in words_dict.items():\n",
    "        if count > 5:\n",
    "            words_set.add(w)\n",
    "          \n",
    "    words_set = sorted(words_set)\n",
    "\n",
    "    # Exclude stop words\n",
    "    for word in words_set:\n",
    "        if word in stop_words:\n",
    "            words_set.remove(word)\n",
    "\n",
    "    words_set_len = len(words_set)\n",
    "    print(\"Size of the feature set: \", words_set_len) #7570\n",
    "    \n",
    "    return words_set\n",
    "\n",
    "word_sets = get_unique_words()\n",
    "\n",
    "# print( \"\\nBuilding dictionaries... \")\n",
    "word2id = dict((w, i) for i, w in enumerate(word_sets))\n",
    "id2word = dict((i, w) for i, w in enumerate(word_sets))\n",
    "# print(\"complete!\\n\")\n"
   ]
  },
  {
   "cell_type": "code",
   "execution_count": 3,
   "metadata": {},
   "outputs": [],
   "source": [
    "num_sentences = len(datafile_lines)\n",
    "num_words = len(word_sets)\n",
    "\n",
    "bag_of_words = np.zeros([num_sentences, num_words], dtype=np.int8)"
   ]
  },
  {
   "cell_type": "code",
   "execution_count": 4,
   "metadata": {},
   "outputs": [
    {
     "name": "stdout",
     "output_type": "stream",
     "text": [
      "Processing... 0.0% done!\n",
      "Processing... 1.6666666666666667% done!\n",
      "Processing... 3.3333333333333335% done!\n",
      "Processing... 5.0% done!\n",
      "Processing... 6.666666666666667% done!\n",
      "Processing... 8.333333333333332% done!\n",
      "Processing... 10.0% done!\n",
      "Processing... 11.666666666666666% done!\n",
      "Processing... 13.333333333333334% done!\n",
      "Processing... 15.0% done!\n",
      "Processing... 16.666666666666664% done!\n",
      "Processing... 18.333333333333332% done!\n",
      "Processing... 20.0% done!\n",
      "Processing... 21.666666666666668% done!\n",
      "Processing... 23.333333333333332% done!\n",
      "Processing... 25.0% done!\n",
      "Processing... 26.666666666666668% done!\n",
      "Processing... 28.333333333333332% done!\n",
      "Processing... 30.0% done!\n",
      "Processing... 31.666666666666664% done!\n",
      "Processing... 33.33333333333333% done!\n",
      "Processing... 35.0% done!\n",
      "Processing... 36.666666666666664% done!\n",
      "Processing... 38.333333333333336% done!\n",
      "Processing... 40.0% done!\n",
      "Processing... 41.66666666666667% done!\n",
      "Processing... 43.333333333333336% done!\n",
      "Processing... 45.0% done!\n",
      "Processing... 46.666666666666664% done!\n",
      "Processing... 48.333333333333336% done!\n",
      "Processing... 50.0% done!\n",
      "Processing... 51.66666666666667% done!\n",
      "Processing... 53.333333333333336% done!\n",
      "Processing... 55.00000000000001% done!\n",
      "Processing... 56.666666666666664% done!\n",
      "Processing... 58.333333333333336% done!\n",
      "Processing... 60.0% done!\n",
      "Processing... 61.66666666666667% done!\n",
      "Processing... 63.33333333333333% done!\n",
      "Processing... 65.0% done!\n",
      "Processing... 66.66666666666666% done!\n",
      "Processing... 68.33333333333333% done!\n",
      "Processing... 70.0% done!\n",
      "Processing... 71.66666666666667% done!\n",
      "Processing... 73.33333333333333% done!\n",
      "Processing... 75.0% done!\n",
      "Processing... 76.66666666666667% done!\n",
      "Processing... 78.33333333333333% done!\n",
      "Processing... 80.0% done!\n",
      "Processing... 81.66666666666667% done!\n",
      "Processing... 83.33333333333334% done!\n",
      "Processing... 85.0% done!\n",
      "Processing... 86.66666666666667% done!\n",
      "Processing... 88.33333333333333% done!\n",
      "Processing... 90.0% done!\n",
      "Processing... 91.66666666666666% done!\n",
      "Processing... 93.33333333333333% done!\n",
      "Processing... 95.0% done!\n",
      "Processing... 96.66666666666667% done!\n",
      "Processing... 98.33333333333333% done!\n"
     ]
    }
   ],
   "source": [
    "# This function builds the bag of words model\n",
    "def update_bag_of_words():\n",
    "    for th, sentence in enumerate(datafile_lines):\n",
    "        if th % 500 == 0:\n",
    "            print(\"Processing... {}%, done!\".format(th/num_sentences*100))\n",
    "            \n",
    "        lower_case_sentence = sentence.lower()\n",
    "        words_in_sentence = lower_case_sentence.split()\n",
    "        \n",
    "        for word in words_in_sentence:\n",
    "\n",
    "            if word in word_sets:\n",
    "                ind = word2id[word]\n",
    "                bag_of_words[th][ind] += 1\n",
    "                \n",
    "                \n",
    "update_bag_of_words()"
   ]
  },
  {
   "cell_type": "markdown",
   "metadata": {},
   "source": [
    "## Perceptron & Average Perceptron"
   ]
  },
  {
   "cell_type": "code",
   "execution_count": 5,
   "metadata": {},
   "outputs": [],
   "source": [
    "train_labels = np.loadtxt(\"./src/data_files/training_labels.txt\",\\\n",
    "                          delimiter='\\n', dtype=np.int32)"
   ]
  },
  {
   "cell_type": "code",
   "execution_count": 6,
   "metadata": {},
   "outputs": [],
   "source": [
    "validation_datafile = open(\"./src/data_files/val_data.txt\")\n",
    "validation_datafile_lines = [line.rstrip('\\n') for line in validation_datafile]\n",
    "\n",
    "validation_labels = np.loadtxt(\"./src/data_files/val_labels.txt\",\\\n",
    "                          delimiter='\\n', dtype=np.int32)"
   ]
  },
  {
   "cell_type": "code",
   "execution_count": 7,
   "metadata": {},
   "outputs": [
    {
     "name": "stdout",
     "output_type": "stream",
     "text": [
      "Processing... 0.0% done!\n",
      "Processing... 5.0% done!\n",
      "Processing... 10.0% done!\n",
      "Processing... 15.0% done!\n",
      "Processing... 20.0% done!\n",
      "Processing... 25.0% done!\n",
      "Processing... 30.0% done!\n",
      "Processing... 35.0% done!\n",
      "Processing... 40.0% done!\n",
      "Processing... 45.0% done!\n",
      "Processing... 50.0% done!\n",
      "Processing... 55.00000000000001% done!\n",
      "Processing... 60.0% done!\n",
      "Processing... 65.0% done!\n",
      "Processing... 70.0% done!\n",
      "Processing... 75.0% done!\n",
      "Processing... 80.0% done!\n",
      "Processing... 85.0% done!\n",
      "Processing... 90.0% done!\n",
      "Processing... 95.0% done!\n"
     ]
    }
   ],
   "source": [
    "num_validation_sentences = len(validation_datafile_lines)\n",
    "\n",
    "validation_bag_of_words = np.zeros([num_validation_sentences, num_words], dtype=np.int8)\n",
    "\n",
    "def update_validation_bag_of_words():\n",
    "    for th, sentence in enumerate(validation_datafile_lines):\n",
    "        if th % 500 == 0:\n",
    "            print(\"Processing... {}%, done!\".format(th/num_validation_sentences*100))\n",
    "            \n",
    "        lower_case_sentence = sentence.lower()\n",
    "        words_in_sentence = lower_case_sentence.split()\n",
    "        \n",
    "        for word in words_in_sentence:\n",
    "\n",
    "            if word in word_sets:\n",
    "                ind = word2id[word]\n",
    "                validation_bag_of_words[th][ind] += 1\n",
    "            else:\n",
    "                continue\n",
    "                \n",
    "update_validation_bag_of_words()"
   ]
  },
  {
   "cell_type": "code",
   "execution_count": 8,
   "metadata": {},
   "outputs": [],
   "source": [
    "def shuffle_data():\n",
    "    concat = np.c_[bag_of_words, train_labels]\n",
    "    np.random.shuffle(concat)\n",
    "    shuffled_bag_of_words = concat[:,:-1]\n",
    "    shuffled_train_labels = concat[:,-1]\n",
    "    return shuffled_bag_of_words, shuffled_train_labels\n",
    "\n",
    "def update_weight(weights, sentence, true_label, prediction):\n",
    "    error = true_label - prediction\n",
    "    delta_weight = sentence * error\n",
    "    learning_rate = 0.1\n",
    "    return weights + learning_rate * delta_weight\n",
    "\n",
    "def accuracy(data, labels, weights):\n",
    "    predictions = np.matmul(data, weights)\n",
    "    num_correct = 0\n",
    "    for k, pred in enumerate(predictions):\n",
    "        if pred >=0:\n",
    "            pred = 1\n",
    "        else:\n",
    "            pred = 0\n",
    "        if pred == labels[k]:\n",
    "            num_correct += 1\n",
    "    return num_correct / len(labels)\n",
    "\n",
    "def perceptron(x=bag_of_words, y=train_labels):\n",
    "    mean, standard_dev = 0, 0.1\n",
    "    weights = np.random.normal(mean, standard_dev, num_words)\n",
    "    weights_for_average_perceptron = np.random.normal(mean, standard_dev, num_words)\n",
    "    \n",
    "    #Keep track of training accuracies\n",
    "    perceptron_train_accuracies = []\n",
    "    averaged_perceptron_train_accuracies = []\n",
    "    \n",
    "    #keep track of validation accuracies\n",
    "    perceptrion_validation_accuracies = []\n",
    "    averaged_perceptron_validation_accuracies = []\n",
    "    \n",
    "    epochs = 51\n",
    "    for t in range(epochs):\n",
    "        if t % 10 ==0:\n",
    "            print(\"Epoch #: \", t)\n",
    "            \n",
    "        x, y = shuffle_data()\n",
    "        \n",
    "        #Report training accuracies\n",
    "        percep_acc = accuracy(bag_of_words, train_labels, weights)\n",
    "        perceptron_train_accuracies.append(percep_acc)\n",
    "        ave_percep_acc = accuracy(bag_of_words, train_labels, weights_for_average_perceptron)\n",
    "        averaged_perceptron_train_accuracies.append(ave_percep_acc)\n",
    "        \n",
    "        #Report validation accuracies\n",
    "        percep_val_acc = accuracy(validation_bag_of_words, validation_labels, weights)\n",
    "        perceptrion_validation_accuracies.append(percep_val_acc)\n",
    "        ave_percep_val_acc = accuracy(validation_bag_of_words, validation_labels, weights_for_average_perceptron)\n",
    "        averaged_perceptron_validation_accuracies.append(ave_percep_val_acc)\n",
    "        \n",
    "        \n",
    "        # In each epoch, iterate through every sentence, update weights\n",
    "        for i in range(num_sentences):\n",
    "            sentence = x[i] # bag of words of sentence i\n",
    "            true_label = y[i] # corresponding weights\n",
    "\n",
    "            weighted_sum_sentence = np.dot(sentence, weights)\n",
    "\n",
    "            prediction = 0\n",
    "            # if the prediction is correct, good\n",
    "            if weighted_sum_sentence >= 0:\n",
    "                prediction = 1\n",
    "                \n",
    "            # if incorrect, update weights\n",
    "            if prediction != true_label:\n",
    "                weights = update_weight(weights, sentence, true_label, prediction)\n",
    "                weights_for_average_perceptron += weights\n",
    "        \n",
    "        weights_for_average_perceptron /= num_sentences\n",
    "            \n",
    "    return weights, weights_for_average_perceptron,\\\n",
    "            perceptron_train_accuracies, averaged_perceptron_train_accuracies,\\\n",
    "            perceptrion_validation_accuracies, averaged_perceptron_validation_accuracies"
   ]
  },
  {
   "cell_type": "code",
   "execution_count": 9,
   "metadata": {},
   "outputs": [
    {
     "name": "stdout",
     "output_type": "stream",
     "text": [
      "Epoch #:  0\n",
      "Epoch #:  10\n",
      "Epoch #:  20\n",
      "Epoch #:  30\n",
      "Epoch #:  40\n",
      "Epoch #:  50\n",
      "Epoch #:  60\n",
      "Epoch #:  70\n",
      "Epoch #:  80\n",
      "Epoch #:  90\n",
      "Epoch #:  100\n",
      "Epoch #:  110\n",
      "Epoch #:  120\n",
      "Epoch #:  130\n",
      "Epoch #:  140\n",
      "Epoch #:  150\n"
     ]
    }
   ],
   "source": [
    "updated_weights, updated_weights_for_average_perceptron,\\\n",
    "perceptron_train_accuracies, averaged_perceptron_train_accuracies,\\\n",
    "perceptrion_validation_accuracies, averaged_perceptron_validation_accuracies\\\n",
    "= perceptron(bag_of_words, train_labels)"
   ]
  },
  {
   "cell_type": "markdown",
   "metadata": {},
   "source": [
    "## Plot accuracy curves for train and validation datasets"
   ]
  },
  {
   "cell_type": "code",
   "execution_count": 13,
   "metadata": {},
   "outputs": [],
   "source": [
    "import matplotlib.pyplot as plt\n",
    "%matplotlib inline"
   ]
  },
  {
   "cell_type": "markdown",
   "metadata": {},
   "source": [
    "### Accuracy plot for Perceptron on training data"
   ]
  },
  {
   "cell_type": "code",
   "execution_count": 14,
   "metadata": {},
   "outputs": [
    {
     "data": {
      "image/png": "[encoded data removed]",
      "text/plain": [
       "<Figure size 432x288 with 1 Axes>"
      ]
     },
     "metadata": {},
     "output_type": "display_data"
    }
   ],
   "source": [
    "plt.plot(perceptron_train_accuracies)\n",
    "plt.xlabel(\"Number of epochs\")\n",
    "plt.ylabel(\"accuracy\")\n",
    "plt.title(\"Perceptron on training data\")\n",
    "plt.show()"
   ]
  },
  {
   "cell_type": "markdown",
   "metadata": {},
   "source": [
    "### Accuracy plot for Perceptron on validation data"
   ]
  },
  {
   "cell_type": "code",
   "execution_count": 15,
   "metadata": {},
   "outputs": [
    {
     "data": {
      "image/png": "[encoded data removed]",
      "text/plain": [
       "<Figure size 432x288 with 1 Axes>"
      ]
     },
     "metadata": {},
     "output_type": "display_data"
    }
   ],
   "source": [
    "plt.plot(perceptrion_validation_accuracies)\n",
    "plt.xlabel(\"Number of epochs\")\n",
    "plt.ylabel(\"accuracy\")\n",
    "plt.title(\"Perceptron validation accuracy\")\n",
    "plt.show()"
   ]
  },
  {
   "cell_type": "code",
   "execution_count": null,
   "metadata": {},
   "outputs": [],
   "source": []
  },
  {
   "cell_type": "markdown",
   "metadata": {},
   "source": [
    "### Accuracy plot for Averaged Perceptron on training data"
   ]
  },
  {
   "cell_type": "code",
   "execution_count": 16,
   "metadata": {},
   "outputs": [
    {
     "data": {
      "image/png": "[encoded data removed]",
      "text/plain": [
       "<Figure size 432x288 with 1 Axes>"
      ]
     },
     "metadata": {},
     "output_type": "display_data"
    }
   ],
   "source": [
    "plt.plot(averaged_perceptron_train_accuracies)\n",
    "plt.xlabel(\"Number of epochs\")\n",
    "plt.ylabel(\"accuracy\")\n",
    "plt.title(\"Average Perceptron train accuracy\")\n",
    "plt.show()"
   ]
  },
  {
   "cell_type": "markdown",
   "metadata": {},
   "source": [
    "### Accuracy plot for Averaged Perceptron on validation data"
   ]
  },
  {
   "cell_type": "code",
   "execution_count": 17,
   "metadata": {},
   "outputs": [
    {
     "data": {
      "image/png": "[encoded data removed]",
      "text/plain": [
       "<Figure size 432x288 with 1 Axes>"
      ]
     },
     "metadata": {},
     "output_type": "display_data"
    }
   ],
   "source": [
    "plt.plot(averaged_perceptron_validation_accuracies)\n",
    "plt.xlabel(\"Number of epochs\")\n",
    "plt.ylabel(\"accuracy\")\n",
    "plt.title(\"Average_Perceptron validation accuracy\")\n",
    "plt.show()"
   ]
  },
  {
   "cell_type": "markdown",
   "metadata": {},
   "source": [
    "## Make test predictions with Averaged Perceptron "
   ]
  },
  {
   "cell_type": "code",
   "execution_count": 18,
   "metadata": {},
   "outputs": [],
   "source": [
    "test_datafile = open(\"./src/data_files/test_data.txt\")\n",
    "test_datafile_lines = [line.rstrip('\\n') for line in test_datafile]\n",
    "num_test_sentences = len(test_datafile_lines)\n",
    "\n",
    "test_bag_of_words = np.zeros([num_test_sentences, num_words], dtype=np.int8)\n"
   ]
  },
  {
   "cell_type": "code",
   "execution_count": 19,
   "metadata": {},
   "outputs": [
    {
     "name": "stdout",
     "output_type": "stream",
     "text": [
      "Processing sentence number:  0 0.0 done!\n",
      "Processing sentence number:  500 0.05 done!\n",
      "Processing sentence number:  1000 0.1 done!\n",
      "Processing sentence number:  1500 0.15 done!\n",
      "Processing sentence number:  2000 0.2 done!\n",
      "Processing sentence number:  2500 0.25 done!\n",
      "Processing sentence number:  3000 0.3 done!\n",
      "Processing sentence number:  3500 0.35 done!\n",
      "Processing sentence number:  4000 0.4 done!\n",
      "Processing sentence number:  4500 0.45 done!\n",
      "Processing sentence number:  5000 0.5 done!\n",
      "Processing sentence number:  5500 0.55 done!\n",
      "Processing sentence number:  6000 0.6 done!\n",
      "Processing sentence number:  6500 0.65 done!\n",
      "Processing sentence number:  7000 0.7 done!\n",
      "Processing sentence number:  7500 0.75 done!\n",
      "Processing sentence number:  8000 0.8 done!\n",
      "Processing sentence number:  8500 0.85 done!\n",
      "Processing sentence number:  9000 0.9 done!\n",
      "Processing sentence number:  9500 0.95 done!\n"
     ]
    }
   ],
   "source": [
    "def update_test_bag_of_words():\n",
    "    for th, sentence in enumerate(test_datafile_lines):\n",
    "        if th % 500 == 0:\n",
    "            print(\"Processing... {}, done!\".format(th/num_test_sentences))\n",
    "            \n",
    "        lower_case_sentence = sentence.lower()\n",
    "        words_in_sentence = lower_case_sentence.split()\n",
    "        \n",
    "        for word in words_in_sentence:\n",
    "\n",
    "            if word in word_sets:\n",
    "                ind = word2id[word]\n",
    "                test_bag_of_words[th][ind] += 1\n",
    "            else:\n",
    "                continue\n",
    "                \n",
    "update_test_bag_of_words()"
   ]
  },
  {
   "cell_type": "code",
   "execution_count": 26,
   "metadata": {},
   "outputs": [],
   "source": [
    "test_predictions = np.matmul(test_bag_of_words, updated_weights_for_average_perceptron)\n",
    "for l, t_pred in enumerate(test_predictions):\n",
    "    if t_pred >= 0:\n",
    "        test_predictions[l] = 1\n",
    "    else:\n",
    "        test_predictions[l] = 0"
   ]
  },
  {
   "cell_type": "code",
   "execution_count": 27,
   "metadata": {},
   "outputs": [],
   "source": [
    "def save_test_predictions():\n",
    "    np.savetxt(\"/Users/hyunjaecho/Desktop/NLP_proj1/submit_files\", test_predictions, fmt='%.0f')\n",
    "    \n",
    "save_test_predictions()"
   ]
  },
  {
   "cell_type": "code",
   "execution_count": null,
   "metadata": {},
   "outputs": [],
   "source": []
  },
  {
   "cell_type": "code",
   "execution_count": null,
   "metadata": {},
   "outputs": [],
   "source": []
  },
  {
   "cell_type": "code",
   "execution_count": null,
   "metadata": {},
   "outputs": [],
   "source": []
  }
 ],
 "metadata": {
  "kernelspec": {
   "display_name": "Python 3",
   "language": "python",
   "name": "python3"
  },
  "language_info": {
   "codemirror_mode": {
    "name": "ipython",
    "version": 3
   },
   "file_extension": ".py",
   "mimetype": "text/x-python",
   "name": "python",
   "nbconvert_exporter": "python",
   "pygments_lexer": "ipython3",
   "version": "3.6.5"
  }
 },
 "nbformat": 4,
 "nbformat_minor": 2
}
